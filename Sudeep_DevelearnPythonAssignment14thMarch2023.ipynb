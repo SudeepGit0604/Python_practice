{
 "cells": [
  {
   "cell_type": "code",
   "execution_count": 3,
   "id": "370d7bc3",
   "metadata": {},
   "outputs": [
    {
     "name": "stdout",
     "output_type": "stream",
     "text": [
      "COMPUTER\n",
      "APTECH\n"
     ]
    }
   ],
   "source": [
    "#Python Assignments\n",
    "print(\"COMPUTER\"  \"\\nAPTECH\")"
   ]
  },
  {
   "cell_type": "code",
   "execution_count": 5,
   "id": "07b038d9",
   "metadata": {},
   "outputs": [
    {
     "name": "stdout",
     "output_type": "stream",
     "text": [
      "25.0\n",
      "The Area of the Triangle is:- 25.0\n"
     ]
    }
   ],
   "source": [
    "b=5\n",
    "h=10\n",
    "A=(1/2)*b*h\n",
    "print(A)\n",
    "print(\"The Area of the Triangle is:-\",A)"
   ]
  },
  {
   "cell_type": "code",
   "execution_count": 6,
   "id": "3c9a12e7",
   "metadata": {},
   "outputs": [
    {
     "name": "stdout",
     "output_type": "stream",
     "text": [
      "Enter the base of the Triangle:\t6\n",
      "Enter the height of the Triangle:\t8\n",
      "24.0\n",
      "The Area of the Triangle is:  24.0\n"
     ]
    }
   ],
   "source": [
    "x=int(input(\"Enter the base of the Triangle:\\t\"))\n",
    "y=int(input(\"Enter the height of the Triangle:\\t\"))\n",
    "c=(1/2)*x*y\n",
    "print(c)\n",
    "print(\"The Area of the Triangle is: \",c)"
   ]
  },
  {
   "cell_type": "code",
   "execution_count": 8,
   "id": "d4010e66",
   "metadata": {},
   "outputs": [
    {
     "name": "stdout",
     "output_type": "stream",
     "text": [
      "Enter the First number:\t4\n",
      "Enter the Second number:\t5\n",
      "5\n",
      "4\n"
     ]
    }
   ],
   "source": [
    "p=int(input(\"Enter the First number:\\t\"))\n",
    "q=int(input(\"Enter the Second number:\\t\"))\n",
    "p,q=q,p\n",
    "print(p)\n",
    "print(q)"
   ]
  },
  {
   "cell_type": "code",
   "execution_count": 11,
   "id": "74c571a6",
   "metadata": {},
   "outputs": [
    {
     "name": "stdout",
     "output_type": "stream",
     "text": [
      "Enter the first number: 4\n",
      "Enter the second number: 5\n",
      "Enter the third number: 6\n",
      "7.5\n",
      "98.4375\n"
     ]
    }
   ],
   "source": [
    "a=int(input(\"Enter the first number: \"))\n",
    "b=int(input(\"Enter the second number: \"))\n",
    "c=int(input(\"Enter the third number: \"))\n",
    "s=(a+b+c)/2\n",
    "print(s)\n",
    "S=s*(s-a)*(s-b)*(s-c)\n",
    "print(S)"
   ]
  },
  {
   "cell_type": "code",
   "execution_count": 12,
   "id": "f642cf4b",
   "metadata": {},
   "outputs": [
    {
     "name": "stdout",
     "output_type": "stream",
     "text": [
      "The calculated for da is  500.25\n",
      "The calculated for hra is  200.10000000000002\n",
      "The Total value is  1700.85\n",
      "The tax value is  170.085\n"
     ]
    }
   ],
   "source": [
    "basic=1000.50\n",
    "da=(50/100)*1000.50\n",
    "print(\"The calculated for da is \",da)\n",
    "hra=(20/100)*1000.50\n",
    "print(\"The calculated for hra is \",hra)\n",
    "total=basic+da+hra\n",
    "print(\"The Total value is \",total)\n",
    "tax=(10/100)*total\n",
    "print(\"The tax value is \",tax)\n"
   ]
  },
  {
   "cell_type": "code",
   "execution_count": 17,
   "id": "3f5167dc",
   "metadata": {},
   "outputs": [
    {
     "name": "stdout",
     "output_type": "stream",
     "text": [
      "Enter the Marks of the student: 60\n",
      "The resule is Pass 60\n"
     ]
    }
   ],
   "source": [
    "S=int(input(\"Enter the Marks of the student: \"))\n",
    "if S<35:\n",
    "    print(\"The result is Fail\",S)\n",
    "else:\n",
    "    print(\"The resule is Pass\",S)"
   ]
  },
  {
   "cell_type": "code",
   "execution_count": 20,
   "id": "3342b670",
   "metadata": {},
   "outputs": [
    {
     "name": "stdout",
     "output_type": "stream",
     "text": [
      "Enter the Bill number: 100\n",
      "Enter the Sales amount: 3000\n",
      "The Bill Number is 100\n",
      "The Sales Amount is 3000\n",
      "The Sales Tax amount is 150.0\n",
      "The Total Net amount is 3150.0\n"
     ]
    }
   ],
   "source": [
    "bill_no=int(input(\"Enter the Bill number: \"))\n",
    "sales_amount=int(input(\"Enter the Sales amount: \"))\n",
    "print(\"The Bill Number is\",bill_no)\n",
    "print(\"The Sales Amount is\",sales_amount)\n",
    "if sales_amount<=5000:\n",
    "    sales_tax=sales_amount*0.05\n",
    "else:\n",
    "    sales_tax=sales_amount*0.10\n",
    "net_amount=sales_amount+sales_tax\n",
    "print(\"The Sales Tax amount is\",sales_tax)\n",
    "print(\"The Total Net amount is\",net_amount)"
   ]
  },
  {
   "cell_type": "code",
   "execution_count": 24,
   "id": "3ff27a6b",
   "metadata": {},
   "outputs": [
    {
     "name": "stdout",
     "output_type": "stream",
     "text": [
      "Enter a number: 10\n",
      "The entered number is an Even number\n"
     ]
    }
   ],
   "source": [
    "t=int(input(\"Enter a number: \"))\n",
    "if t%2==1:\n",
    "    print(\"The entered number is an Odd number\")\n",
    "else:\n",
    "    print(\"The entered number is an Even number\")"
   ]
  },
  {
   "cell_type": "code",
   "execution_count": 29,
   "id": "4eba1099",
   "metadata": {},
   "outputs": [
    {
     "name": "stdout",
     "output_type": "stream",
     "text": [
      "Enter a number: 51\n",
      "The entered number is divisible by 17\n"
     ]
    }
   ],
   "source": [
    "u=int(input(\"Enter a number: \"))\n",
    "if u%17==0:\n",
    "    print(\"The entered number is divisible by 17\")\n",
    "else:\n",
    "    print(\"The entered number is not divisible by 17\")\n",
    "    "
   ]
  },
  {
   "cell_type": "code",
   "execution_count": 30,
   "id": "4cd75f46",
   "metadata": {},
   "outputs": [
    {
     "name": "stdout",
     "output_type": "stream",
     "text": [
      "Enter the height in Feet: 5\n",
      "Enter the height in Inches:  4\n",
      "The Corresponding Height in Centimeteres is:  162.56\n"
     ]
    }
   ],
   "source": [
    "feet=int(input(\"Enter the height in Feet: \"))\n",
    "inches=int(input(\"Enter the height in Inches:  \"))\n",
    "iinc=inches*2.54\n",
    "finc=feet*12*2.54\n",
    "totalheight_centimeter=iinc+finc\n",
    "print(\"The Corresponding Height in Centimeteres is: \",totalheight_centimeter)"
   ]
  },
  {
   "cell_type": "code",
   "execution_count": 3,
   "id": "27c6c05a",
   "metadata": {},
   "outputs": [
    {
     "name": "stdout",
     "output_type": "stream",
     "text": [
      "Enter the item number for the Product: 11\n",
      "Enter the quantity ordered for the Product: 5\n",
      "Enter the unit price for the Product: 5000\n",
      "25000\n",
      "2500.0\n",
      "22500.0\n"
     ]
    }
   ],
   "source": [
    "item_number=int(input(\"Enter the item number for the Product: \"))\n",
    "quantity=int(input(\"Enter the quantity ordered for the Product: \"))\n",
    "uprice=int(input(\"Enter the unit price for the Product: \"))\n",
    "order_amount=quantity * uprice\n",
    "if order_amount<=10000:\n",
    "    discount=order_amount*(5/100)\n",
    "elif order_amount>10000 and order_amount<=25000:\n",
    "    discount=order_amount*(10/100)\n",
    "elif order_amount>25000:\n",
    "    discount=order_amount*(15/100)\n",
    "print(order_amount)\n",
    "print(discount)\n",
    "net_amount=order_amount - discount\n",
    "print(net_amount)\n",
    "    \n",
    "    \n",
    "    "
   ]
  },
  {
   "cell_type": "code",
   "execution_count": 2,
   "id": "8ce2cfd3",
   "metadata": {},
   "outputs": [
    {
     "name": "stdout",
     "output_type": "stream",
     "text": [
      "Enter the Gross income value: 12000\n",
      "12000\n",
      "1200.0\n",
      "10800.0\n"
     ]
    }
   ],
   "source": [
    "gi=int(input(\"Enter the Gross income value: \"))\n",
    "print(gi)\n",
    "if gi<=10000:\n",
    "    itax=0\n",
    "    print(itax)\n",
    "elif gi>10000 and gi<=60000:\n",
    "    itax=gi*(10/100)\n",
    "    print(itax)\n",
    "elif gi>60000 and gi<=160000:\n",
    "    itax=gi*(20/100)\n",
    "    print(itax)\n",
    "else:\n",
    "    itax=gi*(30/100)\n",
    "    print(itax)\n",
    "ni=gi-itax\n",
    "print(ni)\n",
    "\n",
    "\n"
   ]
  },
  {
   "cell_type": "code",
   "execution_count": 6,
   "id": "6119cc0a",
   "metadata": {},
   "outputs": [
    {
     "name": "stdout",
     "output_type": "stream",
     "text": [
      "Enter the Bill number: 15\n",
      "Enter the Sales Amount: 4000\n",
      "The Sales tax is:  150.0\n",
      "The Entered Bill Number is:  15\n",
      "The Entered Sales Amount is:  4000\n",
      "The Total Amount Calculated is:  3850.0\n"
     ]
    }
   ],
   "source": [
    "bno=int(input(\"Enter the Bill number: \"))\n",
    "sales=int(input(\"Enter the Sales Amount: \"))\n",
    "if sales<=3500:\n",
    "    stax=sales*(2.5/100)\n",
    "    print(\"The Sales tax is: \",stax)\n",
    "elif sales>3500 and sales<=8500:\n",
    "    stax=sales*(3.75/100)\n",
    "    print(\"The Sales tax is: \",stax)\n",
    "elif sales>8500 and sales<=16000:\n",
    "    stax=sales*(4.25/100)\n",
    "    print(\"The Sales tax is: \",stax)\n",
    "else:\n",
    "    stax=sales*(5/100)\n",
    "    print(\"The Sales tax is: \",stax)\n",
    "print(\"The Entered Bill Number is: \",bno)\n",
    "print(\"The Entered Sales Amount is: \",sales)\n",
    "tamt=sales-stax\n",
    "print(\"The Total Amount Calculated is: \",tamt)"
   ]
  },
  {
   "cell_type": "code",
   "execution_count": null,
   "id": "8006cb26",
   "metadata": {},
   "outputs": [],
   "source": []
  }
 ],
 "metadata": {
  "kernelspec": {
   "display_name": "Python 3 (ipykernel)",
   "language": "python",
   "name": "python3"
  },
  "language_info": {
   "codemirror_mode": {
    "name": "ipython",
    "version": 3
   },
   "file_extension": ".py",
   "mimetype": "text/x-python",
   "name": "python",
   "nbconvert_exporter": "python",
   "pygments_lexer": "ipython3",
   "version": "3.9.7"
  }
 },
 "nbformat": 4,
 "nbformat_minor": 5
}
