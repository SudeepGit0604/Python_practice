{
 "cells": [
  {
   "cell_type": "code",
   "execution_count": 1,
   "id": "16236e11",
   "metadata": {},
   "outputs": [
    {
     "name": "stdout",
     "output_type": "stream",
     "text": [
      "Enter the Farhenheit Temperature: 70\n",
      "21.11111111111111\n",
      "The Celsius Temperature is:  21.11111111111111\n"
     ]
    }
   ],
   "source": [
    "#Python Assignments\n",
    "f=int(input(\"Enter the Farhenheit Temperature: \"))\n",
    "c=(5/9)*(f-32)\n",
    "print(c)\n",
    "print(\"The Celsius Temperature is: \",c)"
   ]
  },
  {
   "cell_type": "code",
   "execution_count": 2,
   "id": "579c8754",
   "metadata": {},
   "outputs": [
    {
     "name": "stdout",
     "output_type": "stream",
     "text": [
      "Enter the time in Hours: 2\n",
      "Enter the time in Minutes: 5\n",
      "Enter the time in Seconds: 4\n",
      "7504\n",
      "The Calculated Time in Seconds is:  7504\n"
     ]
    }
   ],
   "source": [
    "p=int(input(\"Enter the time in Hours: \"))\n",
    "q=int(input(\"Enter the time in Minutes: \"))\n",
    "r=int(input(\"Enter the time in Seconds: \"))\n",
    "H_TS=p*3600\n",
    "M_TS=q*60\n",
    "Total_time=H_TS+M_TS+r\n",
    "print(Total_time)\n",
    "print(\"The Calculated Time in Seconds is: \",Total_time)"
   ]
  },
  {
   "cell_type": "code",
   "execution_count": 34,
   "id": "c63a6bf0",
   "metadata": {},
   "outputs": [
    {
     "name": "stdout",
     "output_type": "stream",
     "text": [
      "Enter the Marks of the the Student: 75\n",
      "The Result is distinction\n"
     ]
    }
   ],
   "source": [
    "m=int(input(\"Enter the Marks of the the Student: \"))\n",
    "if m<35:\n",
    "    print(\"The Result is Fail\")\n",
    "elif m>=35 and m<45:\n",
    "    print(\"The Result is Pass class\")\n",
    "elif m>=45 and m<60:\n",
    "    print(\"The Result is 2nd class\")\n",
    "elif m>=60 and m<75:\n",
    "    print(\"The Result is 1st class\")\n",
    "elif m>=75 and m<90:\n",
    "    print(\"The Result is distinction\")\n",
    "elif m>=90:\n",
    "    print(\"The Result is merit\")\n",
    "else:\n",
    "    print(\"The Result or Marks is INVALID\")"
   ]
  },
  {
   "cell_type": "code",
   "execution_count": 20,
   "id": "e119fc94",
   "metadata": {},
   "outputs": [
    {
     "name": "stdout",
     "output_type": "stream",
     "text": [
      "Enter the Employee Number: 11\n",
      "Enter the Basic Salary: 5000\n",
      "the Employee Number is  11\n",
      " the Basic Salary is 5000\n",
      "The Dearence Allowance Amoumnt is:  3150.0\n",
      "The House Rent Allowance Amount is:  2000.0\n",
      "The Special Allowances Amount is:  750.0\n",
      "The Gross Salary of the employee is:  10900.0\n"
     ]
    }
   ],
   "source": [
    "en=int(input(\"Enter the Employee Number: \"))\n",
    "bs=int(input(\"Enter the Basic Salary: \"))\n",
    "print(\"the Employee Number is \",en)\n",
    "print(\" the Basic Salary is\", bs)\n",
    "da=(63/100)*bs\n",
    "print(\"The Dearence Allowance Amoumnt is: \",da)\n",
    "\n",
    "hra=(40/100)*bs\n",
    "print(\"The House Rent Allowance Amount is: \",hra)\n",
    "if bs>3500:\n",
    "    sa=(15/100)*bs\n",
    "else:\n",
    "    sa = 0\n",
    "print(\"The Special Allowances Amount is: \",sa)\n",
    "gs=bs+da+hra+sa\n",
    "\n",
    "print(\"The Gross Salary of the employee is: \",gs)    "
   ]
  },
  {
   "cell_type": "code",
   "execution_count": 33,
   "id": "1eff4f5a",
   "metadata": {},
   "outputs": [
    {
     "name": "stdout",
     "output_type": "stream",
     "text": [
      "The Amount of Loan taken is: 30000\n",
      "The Simple Interest for this amount for 10 years is:  21000.0\n"
     ]
    }
   ],
   "source": [
    "pa=int(input(\"The Amount of Loan taken is: \"))\n",
    "if pa<10000:\n",
    "    si=(pa*5*10)/100\n",
    "    print(\"The Simple Interest for this amount for 10 years is: \",si)\n",
    "elif pa<=50000:\n",
    "    si=(pa*7*10)/100\n",
    "    print(\"The Simple Interest for this amount for 10 years is: \",si)\n",
    "elif pa>50000:\n",
    "    si=(pa*10*10)/100\n",
    "    print(\"The Simple Interest for this amount for 10 years is: \",si)\n",
    "else:\n",
    "    print(\"The Simple Interest cannot be calculated\")\n",
    "    "
   ]
  },
  {
   "cell_type": "code",
   "execution_count": null,
   "id": "f7507a1e",
   "metadata": {},
   "outputs": [],
   "source": []
  }
 ],
 "metadata": {
  "kernelspec": {
   "display_name": "Python 3 (ipykernel)",
   "language": "python",
   "name": "python3"
  },
  "language_info": {
   "codemirror_mode": {
    "name": "ipython",
    "version": 3
   },
   "file_extension": ".py",
   "mimetype": "text/x-python",
   "name": "python",
   "nbconvert_exporter": "python",
   "pygments_lexer": "ipython3",
   "version": "3.9.7"
  }
 },
 "nbformat": 4,
 "nbformat_minor": 5
}
