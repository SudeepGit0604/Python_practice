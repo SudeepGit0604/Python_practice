{
 "cells": [
  {
   "cell_type": "code",
   "execution_count": 30,
   "id": "2df2ab06",
   "metadata": {},
   "outputs": [
    {
     "name": "stdout",
     "output_type": "stream",
     "text": [
      "To print my self,need your details.\n",
      "Your details\n",
      "Enter Name:\tSudeep Menon\n",
      "Enter Age:\t26\n",
      "Where do you stay?(Location):\tChembur\n",
      "Enter Qualification:\tB.S.C Computer Science Graduate\n",
      "Enter your Current Status:\tFresher\n",
      "Enter your Hobbies:\tReading Books,Net Surfing,Exploring more about Animals\n",
      "Enter the fields which you are interested in:\tCoding\n",
      "Enter your Passion:\tData Science\n",
      "Enter your Goal:\tData Scientist\n",
      "--MY SELF--\n",
      "😀  Hello Everyone  😀\n",
      "\t My name is Sudeep Menon. I am 26 years old. I am staying 🏠 in Chembur which is situated in Mumbai. My Qualification 🎓 is I did B.S.C Computer Science Graduate from Mumbai University. My Current Status is i am a Fresher and i am searching for a Job. \n",
      "\n",
      "My hobbies are Reading Books,Net Surfing,Exploring more about Animals. I am interested in the field of Coding. \t\n",
      "My Passion is i am interested in Data Science. My Goal 🎯 is to become a Data Scientist. "
     ]
    }
   ],
   "source": [
    "print(\"To print my self,need your details.\")\n",
    "print(\"Your details\")\n",
    "a=input(\"Enter Name:\\t\")\n",
    "b=int(input(\"Enter Age:\\t\"))\n",
    "c=input(\"Where do you stay?(Location):\\t\")\n",
    "d=input(\"Enter Qualification:\\t\")\n",
    "e=input(\"Enter your Current Status:\\t\")\n",
    "f=input(\"Enter your Hobbies:\\t\")\n",
    "g=input(\"Enter the fields which you are interested in:\\t\")\n",
    "h=input(\"Enter your Passion:\\t\")\n",
    "i=input(\"Enter your Goal:\\t\")\n",
    "print(\"--MY SELF--\")\n",
    "print(\"\\U0001F600  Hello Everyone  \\U0001F600\" )\n",
    "print(\"\\t My name is %s.\" %(a),end=\" \" )\n",
    "print(\"I am %d years old.\" %(b),end=\" \")\n",
    "print(\"I am staying \\U0001F3E0 in %s which is situated in Mumbai.\" %(c),end=\" \")\n",
    "print(\"My Qualification \\U0001F393 is I did %s from Mumbai University.\" %(d),end=\" \")\n",
    "print(\"My Current Status is i am a %s and i am searching for a Job.\" %(e),end=\" \")\n",
    "print(\"\\n\")\n",
    "print(\"My hobbies are %s.\" %(f),end=\" \")\n",
    "print(\"I am interested in the field of %s.\" %(g),end=\" \")\n",
    "print(\"\\t\")\n",
    "print(\"My Passion is i am interested in %s.\" %(h),end=\" \")\n",
    "print(\"My Goal \\U0001F3AF is to become a %s.\" %(i),end=\" \")\n",
    "\n",
    "\n"
   ]
  },
  {
   "cell_type": "code",
   "execution_count": null,
   "id": "437232bc",
   "metadata": {},
   "outputs": [],
   "source": [
    "\n",
    "# grinning face\n",
    "print(\"\\U0001f600\")\n",
    " \n",
    "# grinning squinting face\n",
    "print(\"\\U0001F606\")\n",
    " \n",
    "# rolling on the floor laughing\n",
    "print(\"\\U0001F923\")"
   ]
  },
  {
   "cell_type": "code",
   "execution_count": null,
   "id": "eb06818e",
   "metadata": {},
   "outputs": [],
   "source": []
  },
  {
   "cell_type": "code",
   "execution_count": null,
   "id": "0684cc9f",
   "metadata": {},
   "outputs": [],
   "source": []
  }
 ],
 "metadata": {
  "kernelspec": {
   "display_name": "Python 3 (ipykernel)",
   "language": "python",
   "name": "python3"
  },
  "language_info": {
   "codemirror_mode": {
    "name": "ipython",
    "version": 3
   },
   "file_extension": ".py",
   "mimetype": "text/x-python",
   "name": "python",
   "nbconvert_exporter": "python",
   "pygments_lexer": "ipython3",
   "version": "3.9.12"
  }
 },
 "nbformat": 4,
 "nbformat_minor": 5
}
